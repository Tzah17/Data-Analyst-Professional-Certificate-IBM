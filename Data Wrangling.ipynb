{
    "cells": [
        {
            "cell_type": "markdown",
            "metadata": {},
            "source": "<center>\n    <img src=\"https://gitlab.com/ibm/skills-network/courses/placeholder101/-/raw/master/labs/module%201/images/IDSNlogo.png\" width=\"300\" alt=\"cognitiveclass.ai logo\"  />\n</center>\n"
        },
        {
            "cell_type": "markdown",
            "metadata": {},
            "source": "# **Data Wrangling Lab**\n"
        },
        {
            "cell_type": "markdown",
            "metadata": {},
            "source": "Estimated time needed: **45 to 60** minutes\n"
        },
        {
            "cell_type": "markdown",
            "metadata": {},
            "source": "In this assignment you will be performing data wrangling.\n"
        },
        {
            "cell_type": "markdown",
            "metadata": {},
            "source": "## Objectives\n"
        },
        {
            "cell_type": "markdown",
            "metadata": {},
            "source": "In this lab you will perform the following:\n"
        },
        {
            "cell_type": "markdown",
            "metadata": {},
            "source": "*   Identify duplicate values in the dataset.\n\n*   Remove duplicate values from the dataset.\n\n*   Identify missing values in the dataset.\n\n*   Impute the missing values in the dataset.\n\n*   Normalize data in the dataset.\n"
        },
        {
            "cell_type": "markdown",
            "metadata": {},
            "source": "<hr>\n"
        },
        {
            "cell_type": "markdown",
            "metadata": {},
            "source": "## Hands on Lab\n"
        },
        {
            "cell_type": "markdown",
            "metadata": {},
            "source": "Import pandas module.\n"
        },
        {
            "cell_type": "code",
            "execution_count": 2,
            "metadata": {},
            "outputs": [],
            "source": "import pandas as pd\nimport numpy as np"
        },
        {
            "cell_type": "markdown",
            "metadata": {},
            "source": "Load the dataset into a dataframe.\n"
        },
        {
            "cell_type": "code",
            "execution_count": 47,
            "metadata": {},
            "outputs": [],
            "source": "df = pd.read_csv(\"https://cf-courses-data.s3.us.cloud-object-storage.appdomain.cloud/IBM-DA0321EN-SkillsNetwork/LargeData/m1_survey_data.csv\")"
        },
        {
            "cell_type": "markdown",
            "metadata": {},
            "source": "## Finding duplicates\n"
        },
        {
            "cell_type": "markdown",
            "metadata": {},
            "source": "In this section you will identify duplicate values in the dataset.\n"
        },
        {
            "cell_type": "markdown",
            "metadata": {},
            "source": "Find how many duplicate rows exist in the dataframe.\n"
        },
        {
            "cell_type": "code",
            "execution_count": 48,
            "metadata": {},
            "outputs": [
                {
                    "name": "stdout",
                    "output_type": "stream",
                    "text": "154\n154\n"
                }
            ],
            "source": "# your code goes here\nprint(df.duplicated().sum())\nprint(df['Respondent'].duplicated().sum())"
        },
        {
            "cell_type": "markdown",
            "metadata": {},
            "source": "## Removing duplicates\n"
        },
        {
            "cell_type": "markdown",
            "metadata": {},
            "source": "Remove the duplicate rows from the dataframe.\n"
        },
        {
            "cell_type": "code",
            "execution_count": 49,
            "metadata": {},
            "outputs": [],
            "source": "# your code goes here\ndf.drop_duplicates(inplace=True)"
        },
        {
            "cell_type": "markdown",
            "metadata": {},
            "source": "Verify if duplicates were actually dropped.\n"
        },
        {
            "cell_type": "code",
            "execution_count": 50,
            "metadata": {},
            "outputs": [
                {
                    "name": "stdout",
                    "output_type": "stream",
                    "text": "0\n(11398, 85)\n11398\n"
                }
            ],
            "source": "# your code goes here\nprint(df.duplicated().sum())\nprint(df.shape)\nprint(len(df['Respondent'].unique()))"
        },
        {
            "cell_type": "markdown",
            "metadata": {},
            "source": "## Finding Missing values\n"
        },
        {
            "cell_type": "markdown",
            "metadata": {},
            "source": "Find the missing values for all columns.\n"
        },
        {
            "cell_type": "code",
            "execution_count": 51,
            "metadata": {},
            "outputs": [
                {
                    "data": {
                        "text/html": "<div>\n<style scoped>\n    .dataframe tbody tr th:only-of-type {\n        vertical-align: middle;\n    }\n\n    .dataframe tbody tr th {\n        vertical-align: top;\n    }\n\n    .dataframe thead th {\n        text-align: right;\n    }\n</style>\n<table border=\"1\" class=\"dataframe\">\n  <thead>\n    <tr style=\"text-align: right;\">\n      <th></th>\n      <th>Respondent</th>\n      <th>MainBranch</th>\n      <th>Hobbyist</th>\n      <th>OpenSourcer</th>\n      <th>OpenSource</th>\n      <th>Employment</th>\n      <th>Country</th>\n      <th>Student</th>\n      <th>EdLevel</th>\n      <th>UndergradMajor</th>\n      <th>...</th>\n      <th>WelcomeChange</th>\n      <th>SONewContent</th>\n      <th>Age</th>\n      <th>Gender</th>\n      <th>Trans</th>\n      <th>Sexuality</th>\n      <th>Ethnicity</th>\n      <th>Dependents</th>\n      <th>SurveyLength</th>\n      <th>SurveyEase</th>\n    </tr>\n  </thead>\n  <tbody>\n    <tr>\n      <th>0</th>\n      <td>False</td>\n      <td>False</td>\n      <td>False</td>\n      <td>False</td>\n      <td>False</td>\n      <td>False</td>\n      <td>False</td>\n      <td>False</td>\n      <td>False</td>\n      <td>False</td>\n      <td>...</td>\n      <td>False</td>\n      <td>False</td>\n      <td>False</td>\n      <td>False</td>\n      <td>False</td>\n      <td>False</td>\n      <td>False</td>\n      <td>False</td>\n      <td>False</td>\n      <td>False</td>\n    </tr>\n    <tr>\n      <th>1</th>\n      <td>False</td>\n      <td>False</td>\n      <td>False</td>\n      <td>False</td>\n      <td>False</td>\n      <td>False</td>\n      <td>False</td>\n      <td>False</td>\n      <td>False</td>\n      <td>False</td>\n      <td>...</td>\n      <td>False</td>\n      <td>True</td>\n      <td>False</td>\n      <td>False</td>\n      <td>False</td>\n      <td>False</td>\n      <td>False</td>\n      <td>False</td>\n      <td>False</td>\n      <td>False</td>\n    </tr>\n    <tr>\n      <th>2</th>\n      <td>False</td>\n      <td>False</td>\n      <td>False</td>\n      <td>False</td>\n      <td>False</td>\n      <td>False</td>\n      <td>False</td>\n      <td>False</td>\n      <td>False</td>\n      <td>False</td>\n      <td>...</td>\n      <td>False</td>\n      <td>False</td>\n      <td>False</td>\n      <td>False</td>\n      <td>False</td>\n      <td>False</td>\n      <td>False</td>\n      <td>False</td>\n      <td>False</td>\n      <td>False</td>\n    </tr>\n    <tr>\n      <th>3</th>\n      <td>False</td>\n      <td>False</td>\n      <td>False</td>\n      <td>False</td>\n      <td>False</td>\n      <td>False</td>\n      <td>False</td>\n      <td>False</td>\n      <td>False</td>\n      <td>True</td>\n      <td>...</td>\n      <td>False</td>\n      <td>False</td>\n      <td>False</td>\n      <td>False</td>\n      <td>False</td>\n      <td>False</td>\n      <td>False</td>\n      <td>False</td>\n      <td>False</td>\n      <td>False</td>\n    </tr>\n    <tr>\n      <th>4</th>\n      <td>False</td>\n      <td>False</td>\n      <td>False</td>\n      <td>False</td>\n      <td>False</td>\n      <td>False</td>\n      <td>False</td>\n      <td>False</td>\n      <td>False</td>\n      <td>False</td>\n      <td>...</td>\n      <td>False</td>\n      <td>False</td>\n      <td>False</td>\n      <td>False</td>\n      <td>False</td>\n      <td>False</td>\n      <td>False</td>\n      <td>False</td>\n      <td>False</td>\n      <td>False</td>\n    </tr>\n    <tr>\n      <th>...</th>\n      <td>...</td>\n      <td>...</td>\n      <td>...</td>\n      <td>...</td>\n      <td>...</td>\n      <td>...</td>\n      <td>...</td>\n      <td>...</td>\n      <td>...</td>\n      <td>...</td>\n      <td>...</td>\n      <td>...</td>\n      <td>...</td>\n      <td>...</td>\n      <td>...</td>\n      <td>...</td>\n      <td>...</td>\n      <td>...</td>\n      <td>...</td>\n      <td>...</td>\n      <td>...</td>\n    </tr>\n    <tr>\n      <th>11547</th>\n      <td>False</td>\n      <td>False</td>\n      <td>False</td>\n      <td>False</td>\n      <td>False</td>\n      <td>False</td>\n      <td>False</td>\n      <td>False</td>\n      <td>False</td>\n      <td>False</td>\n      <td>...</td>\n      <td>False</td>\n      <td>False</td>\n      <td>False</td>\n      <td>False</td>\n      <td>False</td>\n      <td>False</td>\n      <td>False</td>\n      <td>False</td>\n      <td>False</td>\n      <td>False</td>\n    </tr>\n    <tr>\n      <th>11548</th>\n      <td>False</td>\n      <td>False</td>\n      <td>False</td>\n      <td>False</td>\n      <td>False</td>\n      <td>False</td>\n      <td>False</td>\n      <td>False</td>\n      <td>False</td>\n      <td>False</td>\n      <td>...</td>\n      <td>False</td>\n      <td>False</td>\n      <td>False</td>\n      <td>False</td>\n      <td>False</td>\n      <td>False</td>\n      <td>False</td>\n      <td>False</td>\n      <td>False</td>\n      <td>False</td>\n    </tr>\n    <tr>\n      <th>11549</th>\n      <td>False</td>\n      <td>False</td>\n      <td>False</td>\n      <td>False</td>\n      <td>False</td>\n      <td>False</td>\n      <td>False</td>\n      <td>False</td>\n      <td>False</td>\n      <td>False</td>\n      <td>...</td>\n      <td>False</td>\n      <td>False</td>\n      <td>False</td>\n      <td>False</td>\n      <td>False</td>\n      <td>False</td>\n      <td>False</td>\n      <td>False</td>\n      <td>False</td>\n      <td>False</td>\n    </tr>\n    <tr>\n      <th>11550</th>\n      <td>False</td>\n      <td>False</td>\n      <td>False</td>\n      <td>False</td>\n      <td>False</td>\n      <td>False</td>\n      <td>False</td>\n      <td>False</td>\n      <td>False</td>\n      <td>True</td>\n      <td>...</td>\n      <td>False</td>\n      <td>True</td>\n      <td>False</td>\n      <td>False</td>\n      <td>False</td>\n      <td>False</td>\n      <td>False</td>\n      <td>False</td>\n      <td>False</td>\n      <td>False</td>\n    </tr>\n    <tr>\n      <th>11551</th>\n      <td>False</td>\n      <td>False</td>\n      <td>False</td>\n      <td>False</td>\n      <td>False</td>\n      <td>False</td>\n      <td>False</td>\n      <td>False</td>\n      <td>False</td>\n      <td>False</td>\n      <td>...</td>\n      <td>False</td>\n      <td>False</td>\n      <td>False</td>\n      <td>False</td>\n      <td>False</td>\n      <td>False</td>\n      <td>False</td>\n      <td>False</td>\n      <td>False</td>\n      <td>False</td>\n    </tr>\n  </tbody>\n</table>\n<p>11398 rows \u00d7 85 columns</p>\n</div>",
                        "text/plain": "       Respondent  MainBranch  Hobbyist  OpenSourcer  OpenSource  Employment  \\\n0           False       False     False        False       False       False   \n1           False       False     False        False       False       False   \n2           False       False     False        False       False       False   \n3           False       False     False        False       False       False   \n4           False       False     False        False       False       False   \n...           ...         ...       ...          ...         ...         ...   \n11547       False       False     False        False       False       False   \n11548       False       False     False        False       False       False   \n11549       False       False     False        False       False       False   \n11550       False       False     False        False       False       False   \n11551       False       False     False        False       False       False   \n\n       Country  Student  EdLevel  UndergradMajor  ...  WelcomeChange  \\\n0        False    False    False           False  ...          False   \n1        False    False    False           False  ...          False   \n2        False    False    False           False  ...          False   \n3        False    False    False            True  ...          False   \n4        False    False    False           False  ...          False   \n...        ...      ...      ...             ...  ...            ...   \n11547    False    False    False           False  ...          False   \n11548    False    False    False           False  ...          False   \n11549    False    False    False           False  ...          False   \n11550    False    False    False            True  ...          False   \n11551    False    False    False           False  ...          False   \n\n       SONewContent    Age  Gender  Trans  Sexuality  Ethnicity  Dependents  \\\n0             False  False   False  False      False      False       False   \n1              True  False   False  False      False      False       False   \n2             False  False   False  False      False      False       False   \n3             False  False   False  False      False      False       False   \n4             False  False   False  False      False      False       False   \n...             ...    ...     ...    ...        ...        ...         ...   \n11547         False  False   False  False      False      False       False   \n11548         False  False   False  False      False      False       False   \n11549         False  False   False  False      False      False       False   \n11550          True  False   False  False      False      False       False   \n11551         False  False   False  False      False      False       False   \n\n       SurveyLength  SurveyEase  \n0             False       False  \n1             False       False  \n2             False       False  \n3             False       False  \n4             False       False  \n...             ...         ...  \n11547         False       False  \n11548         False       False  \n11549         False       False  \n11550         False       False  \n11551         False       False  \n\n[11398 rows x 85 columns]"
                    },
                    "execution_count": 51,
                    "metadata": {},
                    "output_type": "execute_result"
                }
            ],
            "source": "# your code goes here\ndf_nulls=df.isnull()\ndf_nulls"
        },
        {
            "cell_type": "markdown",
            "metadata": {},
            "source": "Find out how many rows are missing in the column 'WorkLoc'\n"
        },
        {
            "cell_type": "code",
            "execution_count": 52,
            "metadata": {},
            "outputs": [
                {
                    "data": {
                        "text/plain": "0"
                    },
                    "execution_count": 52,
                    "metadata": {},
                    "output_type": "execute_result"
                }
            ],
            "source": "# your code goes here\ndf['Country'].isnull().sum()"
        },
        {
            "cell_type": "markdown",
            "metadata": {},
            "source": "## Imputing missing values\n"
        },
        {
            "cell_type": "markdown",
            "metadata": {},
            "source": "Find the  value counts for the column WorkLoc.\n"
        },
        {
            "cell_type": "code",
            "execution_count": 53,
            "metadata": {},
            "outputs": [
                {
                    "data": {
                        "text/plain": "Office                                            6806\nHome                                              3589\nOther place, such as a coworking space or cafe     971\nName: WorkLoc, dtype: int64"
                    },
                    "execution_count": 53,
                    "metadata": {},
                    "output_type": "execute_result"
                }
            ],
            "source": "# your code goes here\ndf['WorkLoc'].value_counts()"
        },
        {
            "cell_type": "markdown",
            "metadata": {},
            "source": "Identify the value that is most frequent (majority) in the WorkLoc column.\n"
        },
        {
            "cell_type": "code",
            "execution_count": 54,
            "metadata": {},
            "outputs": [
                {
                    "name": "stdout",
                    "output_type": "stream",
                    "text": "Office\nEmployed full-time\nA health science (ex. nursing, pharmacy, radiology)\n"
                }
            ],
            "source": "#make a note of the majority value here, for future reference\n#Office\nprint(df['WorkLoc'].value_counts().idxmax())\nprint(df['Employment'].value_counts().idxmax())\nprint(df['UndergradMajor'].value_counts().idxmin())"
        },
        {
            "cell_type": "markdown",
            "metadata": {},
            "source": "Impute (replace) all the empty rows in the column WorkLoc with the value that you have identified as majority.\n"
        },
        {
            "cell_type": "code",
            "execution_count": 55,
            "metadata": {},
            "outputs": [
                {
                    "data": {
                        "text/plain": "Office                                            6838\nHome                                              3589\nOther place, such as a coworking space or cafe     971\nName: WorkLoc, dtype: int64"
                    },
                    "execution_count": 55,
                    "metadata": {},
                    "output_type": "execute_result"
                }
            ],
            "source": "# your code goes here\ndf['WorkLoc'].fillna('Office',inplace=True)\ndf['WorkLoc'].value_counts()"
        },
        {
            "cell_type": "markdown",
            "metadata": {},
            "source": "After imputation there should ideally not be any empty rows in the WorkLoc column.\n"
        },
        {
            "cell_type": "markdown",
            "metadata": {},
            "source": "Verify if imputing was successful.\n"
        },
        {
            "cell_type": "code",
            "execution_count": 56,
            "metadata": {},
            "outputs": [
                {
                    "data": {
                        "text/plain": "False"
                    },
                    "execution_count": 56,
                    "metadata": {},
                    "output_type": "execute_result"
                }
            ],
            "source": "# your code goes here\ndf['WorkLoc'].isnull().values.any()"
        },
        {
            "cell_type": "markdown",
            "metadata": {},
            "source": "## Normalizing data\n"
        },
        {
            "cell_type": "markdown",
            "metadata": {},
            "source": "There are two columns in the dataset that talk about compensation.\n\nOne is \"CompFreq\". This column shows how often a developer is paid (Yearly, Monthly, Weekly).\n\nThe other is \"CompTotal\". This column talks about how much the developer is paid per Year, Month, or Week depending upon his/her \"CompFreq\".\n\nThis makes it difficult to compare the total compensation of the developers.\n\nIn this section you will create a new column called 'NormalizedAnnualCompensation' which contains the 'Annual Compensation' irrespective of the 'CompFreq'.\n\nOnce this column is ready, it makes comparison of salaries easy.\n"
        },
        {
            "cell_type": "markdown",
            "metadata": {},
            "source": "<hr>\n"
        },
        {
            "cell_type": "markdown",
            "metadata": {},
            "source": "List out the various categories in the column 'CompFreq'\n"
        },
        {
            "cell_type": "code",
            "execution_count": 57,
            "metadata": {},
            "outputs": [
                {
                    "name": "stdout",
                    "output_type": "stream",
                    "text": "Yearly\n"
                },
                {
                    "data": {
                        "text/plain": "Yearly     6073\nMonthly    4788\nWeekly      331\nName: CompFreq, dtype: int64"
                    },
                    "execution_count": 57,
                    "metadata": {},
                    "output_type": "execute_result"
                }
            ],
            "source": "# your code goes here\nprint(df['CompFreq'].value_counts().idxmax())\n\ndf['CompFreq'].value_counts()"
        },
        {
            "cell_type": "markdown",
            "metadata": {},
            "source": "Create a new column named 'NormalizedAnnualCompensation'. Use the hint given below if needed.\n"
        },
        {
            "cell_type": "markdown",
            "metadata": {},
            "source": "Double click to see the **Hint**.\n\n<!--\n\nUse the below logic to arrive at the values for the column NormalizedAnnualCompensation.\n\nIf the CompFreq is Yearly then use the exising value in CompTotal\nIf the CompFreq is Monthly then multiply the value in CompTotal with 12 (months in an year)\nIf the CompFreq is Weekly then multiply the value in CompTotal with 52 (weeks in an year)\n\n-->\n"
        },
        {
            "cell_type": "code",
            "execution_count": 40,
            "metadata": {},
            "outputs": [
                {
                    "data": {
                        "text/plain": "[61000.0,\n 138000.0,\n 90000.0,\n 29000.0,\n 9500.0,\n 3000.0,\n 103000.0,\n 69000.0,\n 8000.0,\n 7000.0,\n 114000.0,\n 2000.0,\n 22000.0,\n 96000.0,\n 156000.0,\n 18000.0,\n 6400.0,\n 5000.0,\n 400000.0,\n 47300.0,\n 51500.0,\n 345000.0,\n 85000.0,\n 107000.0,\n 66000.0,\n 76800.0,\n 50000.0,\n 800000.0,\n 75000.0,\n 100000.0,\n 1250000.0,\n 30000.0,\n 550000.0,\n 70000.0,\n 700000.0,\n 40000.0,\n 9000.0,\n 11000.0,\n 33000.0,\n 110000.0,\n 66750.0,\n 300000.0,\n 67800.0,\n 155000.0,\n 25000.0,\n 26000.0,\n 31000.0,\n 24000.0,\n 650000.0,\n 60000.0,\n 106000.0,\n 62000.0,\n 4000.0,\n 175600.0,\n 540000.0,\n 53500.0,\n 135000.0,\n 80000.0,\n 3436.0,\n 32000000.0,\n 48000.0,\n 137000.0,\n 68000.0,\n 12000.0,\n 13000000.0,\n 35000.0,\n 480000.0,\n 7500.0,\n 39000.0,\n 3700.0,\n 95000.0,\n 450000.0,\n 112800.0,\n 117800.0,\n 1450.0,\n 180000.0,\n 233000.0,\n 120000.0,\n 41400.0,\n 2000000.0,\n 86000.0,\n 490000.0,\n 88000.0,\n 4200.0,\n 20000.0,\n 45000.0,\n 52000.0,\n 600000.0,\n 72000.0,\n 3200000.0,\n 183000.0,\n 130000.0,\n 55000.0,\n 0.0,\n 115000.0,\n 63000.0,\n 5500.0,\n 123000.0,\n 140000.0,\n 3600.0,\n 360000.0,\n 160000.0,\n 84000.0,\n 9100.0,\n 105000.0,\n 2500.0,\n 19000.0,\n 440000.0,\n 57000.0,\n 250000.0,\n 3418.0,\n 170000.0,\n 125000.0,\n 12600.0,\n 157000.0,\n 6750000.0,\n 104000.0,\n 23800.0,\n 113000.0,\n 165000.0,\n 5666.0,\n 118000.0,\n 750000.0,\n 46600.0,\n 900.0,\n 154000.0,\n 92000.0,\n 8716.0,\n 64000.0,\n 34000.0,\n 46000.0,\n 2240.0,\n 2700.0,\n 45000000.0,\n 4300.0,\n 9855.0,\n 690000.0,\n 10400.0,\n 28000.0,\n 37000.0,\n 11700.0,\n 6000.0,\n 97000.0,\n 193196.0,\n 121000.0,\n 58000.0,\n 850000.0,\n 112000.0,\n 1050.0,\n 42000000.0,\n 2600.0,\n 520000.0,\n 42120.0,\n 3500.0,\n 1300.0,\n 6240.0,\n 65000.0,\n 56000.0,\n 17000.0,\n 190000.0,\n 3550.0,\n 1600000.0,\n 1500.0,\n 72500.0,\n 11400.0,\n 50000000.0,\n 1100.0,\n 32000.0,\n 82000.0,\n 147000.0,\n 1075000.0,\n 720000.0,\n 200000.0,\n 26500.0,\n 56500.0,\n 3300.0,\n 128000.0,\n 840.0,\n 13000.0,\n 87000.0,\n 47000.0,\n 77000.0,\n 78000.0,\n 10000.0,\n 275000.0,\n 122473.0,\n 2800.0,\n 21000.0,\n 8200.0,\n 230000.0,\n 200.0,\n 43000.0,\n 880.0,\n 44000.0,\n 30000000.0,\n 3100.0,\n 232000.0,\n 185000.0,\n 1183000.0,\n 5650.0,\n 123500.0,\n 1200.0,\n 46500.0,\n 94000.0,\n 1000000.0,\n 1100000.0,\n 15000.0,\n 69800.0,\n 36000.0,\n 81000.0,\n 1200000.0,\n 49000.0,\n 150000.0,\n 129000.0,\n 238000.0,\n 4150.0,\n 3400.0,\n 41000.0,\n 33280.0,\n 3960.0,\n 94600.0,\n 98000.0,\n 320000.0,\n 108000.0,\n 23192.0,\n 38000.0,\n 81810.0,\n 53000.0,\n 1250.0,\n 63700.0,\n 2500000.0,\n 149500.0,\n 6000000.0,\n 65000000.0,\n 4800.0,\n 9700.0,\n 58700.0,\n 260000.0,\n 5600.0,\n 74000.0,\n 1400000.0,\n 1600.0,\n 3200.0,\n 4712.0,\n 1750.0,\n 106875.0,\n 15000000.0,\n 210000.0,\n 390000000.0,\n 80000000.0,\n 2900.0,\n 3185.0,\n 500000.0,\n 4500.0,\n 101000.0,\n 127741.0,\n 4200000.0,\n 179000.0,\n 177000.0,\n 22200.0,\n 42000.0,\n 1735000.0,\n 625.0,\n 67000.0,\n 28896.0,\n 900000.0,\n 27000.0,\n 16000.0,\n 1350000.0,\n 67200.0,\n 1900.0,\n 560000.0,\n 76000.0,\n 62500.0,\n 54000.0,\n 102000.0,\n 735.0,\n 73000.0,\n 450.0,\n 60000000.0,\n 1700000.0,\n 4000000.0,\n 14000.0,\n 3000000.0,\n 660000.0,\n 4.0,\n 1700.0,\n 3146.0,\n 70000000.0,\n 145000.0,\n 2200000.0,\n 2400.0,\n 83000.0,\n 23500.0,\n 4100.0,\n 146000.0,\n 225000.0,\n 35006.0,\n 6500.0,\n 220000.0,\n 350000.0,\n 107500.0,\n 1000.0,\n 3430.0,\n 82800.0,\n 194400.0,\n 16800.0,\n 1426.0,\n 88500.0,\n 51652.0,\n 875000.0,\n 1500000.0,\n 89000.0,\n 33000000.0,\n 46700.0,\n 12500.0,\n 2200.0,\n 800.0,\n 230000000.0,\n 28550.0,\n 36400.0,\n 22417.0,\n 14300.0,\n 3800.0,\n 770000.0,\n 111350.0,\n 783000.0,\n 172000.0,\n 5350.0,\n 54266.0,\n 4600.0,\n 132000.0,\n 3516.0,\n 6500000.0,\n 1915.0,\n 1800000.0,\n 149000.0,\n 162929.0,\n 40100.0,\n 44400.0,\n 1400.0,\n 1330000.0,\n 202500.0,\n 410000.0,\n 825000.0,\n 18500.0,\n 37500.0,\n 1800.0,\n 6890000.0,\n 91500.0,\n 1045.0,\n 276000.0,\n 71000.0,\n 93000.0,\n 37700.0,\n 15700.0,\n 7250.0,\n 1300000.0,\n 2220.0,\n 39900.0,\n 119000.0,\n 342000.0,\n 6248.0,\n 270000.0,\n 126000.0,\n 3650.0,\n 75500.0,\n 72600.0,\n 97500.0,\n 57900.0,\n 89999.0,\n 962000.0,\n 48300.0,\n 49920.0,\n 692000.0,\n 152000.0,\n 93500.0,\n 134000.0,\n 70650.0,\n 1725.0,\n 9449550.0,\n 720.0,\n 54250.0,\n 55200.0,\n 3450.0,\n 44372.0,\n 1150.0,\n 280000.0,\n 47600.0,\n 6800.0,\n 290000.0,\n 40000000.0,\n 3900.0,\n 625000.0,\n 41500.0,\n 1132.0,\n 2400000.0,\n 100500.0,\n 30800.0,\n 3750.0,\n 528793.0,\n 2100000.0,\n 94335.0,\n 295000.0,\n 1370000.0,\n 42700.0,\n 240000000.0,\n 111000.0,\n 3010.0,\n 2930.0,\n 2250.0,\n 240000.0,\n 109000.0,\n 564000.0,\n 611000.0,\n 5080.0,\n 2573.0,\n 175000.0,\n 6300.0,\n 124000.0,\n 32500.0,\n 57500.0,\n 2800000.0,\n 72040.0,\n 14140.0,\n 173000.0,\n 189000.0,\n 870000.0,\n 144000.0,\n 2650.0,\n 3992.0,\n 42300.0,\n 73400.0,\n 140700.0,\n 675000.0,\n 130.0,\n 25000000.0,\n 158000.0,\n 915000.0,\n 297000.0,\n 465000.0,\n 194000.0,\n 100.0,\n 63500.0,\n 8500.0,\n 1680000.0,\n 2300.0,\n 192500.0,\n 27500.0,\n 23000.0,\n 90.0,\n 5500000.0,\n 51000.0,\n 654000.0,\n 216000.0,\n 31500.0,\n 588000.0,\n 67017.0,\n 168000.0,\n 36500.0,\n 25200.0,\n 100300.0,\n 148000.0,\n 3125.0,\n 933.0,\n 76500.0,\n 52500.0,\n 40980.0,\n 122247.0,\n 2300000.0,\n 273.0,\n 1320.0,\n 122000.0,\n 18300.0,\n 56200.0,\n 188000.0,\n 2650000.0,\n 29500.0,\n 2480.0,\n 95700.0,\n 115800.0,\n 1006000.0,\n 33906.0,\n 75000000.0,\n 117000.0,\n 173400.0,\n 8800.0,\n 2638248.0,\n 184000.0,\n 126126.0,\n 6750.0,\n 840000.0,\n 9231.0,\n 2100.0,\n 151000.0,\n 68500.0,\n 53800.0,\n 137500.0,\n 1017.0,\n 5400.0,\n 390000.0,\n 555000.0,\n 1550000.0,\n 5800000.0,\n 56160.0,\n 79000.0,\n 370000.0,\n 4400000.0,\n 7700.0,\n 75338.0,\n 1150000.0,\n 134200.0,\n 51400.0,\n 14800.0,\n 218000.0,\n 9400.0,\n 16200.0,\n 1140.0,\n 9500000.0,\n 136000.0,\n 82400.0,\n 10300.0,\n 2880.0,\n 133500.0,\n 1160.0,\n 400.0,\n 66900.0,\n 55400.0,\n 2166.0,\n 161000.0,\n 50148.0,\n 164000.0,\n 3150000.0,\n 10500.0,\n 510000.0,\n 1450000.0,\n 33500.0,\n 59000.0,\n 4700.0,\n 65036.0,\n 45500.0,\n 13800000.0,\n 8400.0,\n 20.0,\n 124611.0,\n 28000000.0,\n 49200.0,\n 71500.0,\n 1155000.0,\n 22800.0,\n 34393.0,\n 115388.0,\n 460000.0,\n 518000.0,\n 5900.0,\n 128400.0,\n 4250.0,\n 780000.0,\n 13720.0,\n 970000.0,\n 1920000.0,\n 35500.0,\n 5100.0,\n 40800.0,\n 500.0,\n 3800000.0,\n 3530.0,\n 60500.0,\n 2750.0,\n 760000.0,\n 744000.0,\n 600.0,\n 105.0,\n 999999.0,\n 20000000.0,\n 2230.0,\n 13400.0,\n 520008.0,\n 628000.0,\n 2600000.0,\n 543.0,\n 470000.0,\n 3680.0,\n 700.0,\n 3790000.0,\n 52300.0,\n 17500.0,\n 58830.0,\n 64200.0,\n 66300.0,\n 45900.0,\n 7000000.0,\n 1420000.0,\n 425000.0,\n 14400.0,\n 9800.0,\n 1125.0,\n 590000.0,\n 15221.0,\n 55845.0,\n 281800.0,\n 660.0,\n 10000000.0,\n 90500.0,\n 585000.0,\n 880000.0,\n 51600.0,\n 60912.0,\n 10200.0,\n 116000.0,\n 133000.0,\n 14500.0,\n 44500.0,\n 54080.0,\n 256000.0,\n 37200.0,\n 38780.0,\n 3879.0,\n 525000.0,\n 65500000.0,\n 11448.0,\n 215000.0,\n 478000.0,\n 2080000.0,\n 22500.0,\n 610.0,\n 73416.0,\n 510.0,\n 68.0,\n 167000.0,\n 2.0,\n 740.0,\n 473000.0,\n 34000000.0,\n 104700.0,\n 123800.0,\n 9600.0,\n 43500.0,\n 40500.0,\n 30.0,\n 90400.0,\n 730000.0,\n 7500000.0,\n 3089.0,\n 142500.0,\n 41713.0,\n 55797.0,\n 27300.0,\n 102112.0,\n 73500.0,\n 182600.0,\n 24680.0,\n 750166.0,\n 140.0,\n 430000.0,\n 3424.0,\n 205000.0,\n 4800000.0,\n 5995.0,\n 21600.0,\n 4500000.0,\n 1030.0,\n 2217.0,\n 5200.0,\n 54717.0,\n 4683.0,\n 1040000.0,\n 83500.0,\n 37161.0,\n 5000000.0,\n 94875.0,\n 214000.0,\n 25750.0,\n 3194.0,\n 57600.0,\n 420000.0,\n 198000.0,\n 7600.0,\n 3350.0,\n 12000000.0,\n 102.0,\n 6666.0,\n 1270000.0,\n 3700000.0,\n 7100.0,\n 650.0,\n 3100000.0,\n 82500.0,\n 25500.0,\n 28064.0,\n 46200.0,\n 100000000.0,\n 1350.0,\n 48850.0,\n 4400.0,\n 20400.0,\n 612000.0,\n 53400.0,\n 84800.0,\n 99500.0,\n 1900000.0,\n 2450.0,\n 111750.0,\n 125040.0,\n 142000.0,\n 66500.0,\n 34940.0,\n 990.0,\n 38400.0,\n 99000.0,\n 392000.0,\n 300.0,\n 620.0,\n 1034.0,\n 755000.0,\n 88800.0,\n 945000.0,\n 104030.0,\n 935.0,\n 2350.0,\n 330.0,\n 64800.0,\n 69500.0,\n 235000.0,\n 2160000.0,\n 3833.0,\n 550.0,\n 87160.0,\n 340000.0,\n 4075.0,\n 4590000.0,\n 310000.0,\n 8100.0,\n 630000.0,\n 39500.0,\n 9660.0,\n 19100.0,\n 2575.0,\n 195000.0,\n 192000.0,\n 1688000.0,\n 139000.0,\n 4890.0,\n 1170000.0,\n 3120.0,\n 72292.0,\n 10663.0,\n 2930000.0,\n 316369.0,\n 216.0,\n 91000.0,\n 99600.0,\n 266000.0,\n 2898.0,\n 10.0,\n 3570.0,\n 74500.0,\n 33600.0,\n 118000000.0,\n 1604.0,\n 5660.0,\n 99645.0,\n 502000.0,\n 77358.0,\n 39160.0,\n 46250.0,\n 43700.0,\n 246000.0,\n 58500.0,\n 604800.0,\n 2380.0,\n 3500000.0,\n 27060.0,\n 4320.0,\n 6200.0,\n 2680.0,\n 775000.0,\n 49500.0,\n 365.0,\n 99999.0,\n 23304.0,\n 2850.0,\n 1930.0,\n 230500.0,\n 3680000.0,\n 16033.0,\n 82750.0,\n 127000.0,\n 92500.0,\n 5550.0,\n 31200.0,\n 1950.0,\n 25650.0,\n 1045000.0,\n 28500.0,\n 42600.0,\n 1205.0,\n 47500.0,\n 722000.0,\n 2050.0,\n 481000.0,\n 50100.0,\n 1105000.0,\n 108814.0,\n 30528.0,\n 516000.0,\n 970.0,\n 27846000.0,\n 36000000.0,\n 62000000.0,\n 87300.0,\n 78400.0,\n 77367.0,\n 141994.0,\n 11111.0,\n 751.0,\n 33950.0,\n 45.0,\n 212000.0,\n 17800.0,\n 5581481.0,\n 83800.0,\n 39800.0,\n 312000.0,\n 231000.0,\n 815000.0,\n 350.0,\n 7225.0,\n 1094.0,\n 920000.0,\n 3035765.0,\n 16750.0,\n 118200.0,\n 12025.0,\n 98910.0,\n 1165.0,\n 2090000.0,\n 480.0,\n 1850000.0,\n 650795.0,\n 1120.0,\n 24500.0,\n 2768.0,\n 38500.0,\n 34300.0,\n 5800.0,\n 485000.0,\n 1110.0,\n 3850.0,\n 13700.0,\n 30600.0,\n 82246.0,\n 34675.0,\n 139120.0,\n 860000.0,\n 98050.0,\n 9200.0,\n 620000.0,\n 144200.0,\n 897396.0,\n 143859.0,\n 250.0,\n 70500.0,\n 1440.0,\n 44544.0,\n 3250.0,\n 756.0,\n 29800.0,\n 15550.0,\n 35000000.0,\n 3300000.0,\n 127500.0,\n 22400.0,\n 55.0,\n 698000.0,\n 303000.0,\n 1922.0,\n 8300000.0,\n 16500.0,\n 715000.0,\n 8.0,\n 92400.0,\n 2833.0,\n 60900.0,\n 21966.0,\n 469000.0,\n 248000.0,\n 76958.0,\n 21440.0,\n 163500.0,\n 2530000.0,\n 1.0,\n 50400.0,\n 54600.0,\n 336000.0,\n 153000.0,\n 141000.0,\n 15880.0,\n 33550.0,\n 39600.0,\n 448000.0,\n 13500.0,\n 21250.0,\n 384000.0,\n 122500.0,\n 26367.0,\n 4590.0,\n 8300.0,\n 45360.0,\n 6958523.0,\n 87500.0,\n 1530.0,\n 19500.0,\n 223000.0,\n 206415.0,\n 102600.0,\n 3248.0,\n 70.0,\n 515.0,\n 3960000.0,\n 6600.0,\n 77760.0,\n 609500.0,\n 38043.0,\n 55500.0,\n 11500.0,\n 24192.0,\n 207303.0,\n 4375.0,\n 3600000.0,\n 32840.0,\n 84500.0,\n 183.0,\n 56100.0,\n 11650.0,\n 19150.0,\n 96750.0,\n 6.0,\n 434000.0,\n 184700.0,\n 98550.0,\n 388000.0,\n 46120.0,\n 3240.0,\n 1873.0,\n 156200.0,\n 975.0,\n 68800.0,\n 8400000.0,\n 375000.0,\n 850.0,\n 19600.0,\n 282.0,\n 66700.0,\n 69743.0,\n 4810.0,\n 197000.0,\n 1825000.0,\n 7800.0,\n 636000.0,\n 90000000.0,\n 46800.0,\n 7797.0,\n 150552.0,\n 1520.0,\n 110900.0,\n 74800.0,\n 330000.0,\n 1540000.0,\n 105317.0,\n 965000.0,\n 67500.0,\n 10600.0,\n 22600.0,\n 960000.0,\n 234000.0,\n 380000.0,\n 155952.0,\n 290400.0,\n 7300.0,\n 8201.0,\n 124900.0,\n 680000.0,\n 63100.0,\n 9370.0,\n 732000.0,\n 192.0,\n 127400.0,\n 410256.0,\n 55000000.0,\n 11900.0,\n 134500.0,\n 26208.0,\n 31775.0,\n 19750.0,\n 60.0,\n 21453.0,\n 1750000.0,\n 750.0,\n 144250.0,\n ...]"
                    },
                    "execution_count": 40,
                    "metadata": {},
                    "output_type": "execute_result"
                }
            ],
            "source": "df['CompTotal'].fillna((df['CompTotal'].value_counts().idxmax()),inplace=True)\nCompTotal=list(df['CompTotal'].unique())\nCompTotal"
        },
        {
            "cell_type": "code",
            "execution_count": 43,
            "metadata": {},
            "outputs": [
                {
                    "data": {
                        "text/html": "<div>\n<style scoped>\n    .dataframe tbody tr th:only-of-type {\n        vertical-align: middle;\n    }\n\n    .dataframe tbody tr th {\n        vertical-align: top;\n    }\n\n    .dataframe thead th {\n        text-align: right;\n    }\n</style>\n<table border=\"1\" class=\"dataframe\">\n  <thead>\n    <tr style=\"text-align: right;\">\n      <th></th>\n      <th>Respondent</th>\n      <th>MainBranch</th>\n      <th>Hobbyist</th>\n      <th>OpenSourcer</th>\n      <th>OpenSource</th>\n      <th>Employment</th>\n      <th>Country</th>\n      <th>Student</th>\n      <th>EdLevel</th>\n      <th>UndergradMajor</th>\n      <th>...</th>\n      <th>SONewContent</th>\n      <th>Age</th>\n      <th>Gender</th>\n      <th>Trans</th>\n      <th>Sexuality</th>\n      <th>Ethnicity</th>\n      <th>Dependents</th>\n      <th>SurveyLength</th>\n      <th>SurveyEase</th>\n      <th>NormalizedAnnualCompensation</th>\n    </tr>\n  </thead>\n  <tbody>\n    <tr>\n      <th>0</th>\n      <td>4</td>\n      <td>I am a developer by profession</td>\n      <td>No</td>\n      <td>Never</td>\n      <td>The quality of OSS and closed source software ...</td>\n      <td>Employed full-time</td>\n      <td>United States</td>\n      <td>No</td>\n      <td>Bachelor\u2019s degree (BA, BS, B.Eng., etc.)</td>\n      <td>Computer science, computer engineering, or sof...</td>\n      <td>...</td>\n      <td>Tech articles written by other developers;Indu...</td>\n      <td>22.0</td>\n      <td>Man</td>\n      <td>No</td>\n      <td>Straight / Heterosexual</td>\n      <td>White or of European descent</td>\n      <td>No</td>\n      <td>Appropriate in length</td>\n      <td>Easy</td>\n      <td>61000.0</td>\n    </tr>\n    <tr>\n      <th>1</th>\n      <td>9</td>\n      <td>I am a developer by profession</td>\n      <td>Yes</td>\n      <td>Once a month or more often</td>\n      <td>The quality of OSS and closed source software ...</td>\n      <td>Employed full-time</td>\n      <td>New Zealand</td>\n      <td>No</td>\n      <td>Some college/university study without earning ...</td>\n      <td>Computer science, computer engineering, or sof...</td>\n      <td>...</td>\n      <td>NaN</td>\n      <td>23.0</td>\n      <td>Man</td>\n      <td>No</td>\n      <td>Bisexual</td>\n      <td>White or of European descent</td>\n      <td>No</td>\n      <td>Appropriate in length</td>\n      <td>Neither easy nor difficult</td>\n      <td>138000.0</td>\n    </tr>\n    <tr>\n      <th>2</th>\n      <td>13</td>\n      <td>I am a developer by profession</td>\n      <td>Yes</td>\n      <td>Less than once a month but more than once per ...</td>\n      <td>OSS is, on average, of HIGHER quality than pro...</td>\n      <td>Employed full-time</td>\n      <td>United States</td>\n      <td>No</td>\n      <td>Master\u2019s degree (MA, MS, M.Eng., MBA, etc.)</td>\n      <td>Computer science, computer engineering, or sof...</td>\n      <td>...</td>\n      <td>Tech articles written by other developers;Cour...</td>\n      <td>28.0</td>\n      <td>Man</td>\n      <td>No</td>\n      <td>Straight / Heterosexual</td>\n      <td>White or of European descent</td>\n      <td>Yes</td>\n      <td>Appropriate in length</td>\n      <td>Easy</td>\n      <td>90000.0</td>\n    </tr>\n    <tr>\n      <th>3</th>\n      <td>16</td>\n      <td>I am a developer by profession</td>\n      <td>Yes</td>\n      <td>Never</td>\n      <td>The quality of OSS and closed source software ...</td>\n      <td>Employed full-time</td>\n      <td>United Kingdom</td>\n      <td>No</td>\n      <td>Master\u2019s degree (MA, MS, M.Eng., MBA, etc.)</td>\n      <td>NaN</td>\n      <td>...</td>\n      <td>Tech articles written by other developers;Indu...</td>\n      <td>26.0</td>\n      <td>Man</td>\n      <td>No</td>\n      <td>Straight / Heterosexual</td>\n      <td>White or of European descent</td>\n      <td>No</td>\n      <td>Appropriate in length</td>\n      <td>Neither easy nor difficult</td>\n      <td>348000.0</td>\n    </tr>\n    <tr>\n      <th>4</th>\n      <td>17</td>\n      <td>I am a developer by profession</td>\n      <td>Yes</td>\n      <td>Less than once a month but more than once per ...</td>\n      <td>The quality of OSS and closed source software ...</td>\n      <td>Employed full-time</td>\n      <td>Australia</td>\n      <td>No</td>\n      <td>Bachelor\u2019s degree (BA, BS, B.Eng., etc.)</td>\n      <td>Computer science, computer engineering, or sof...</td>\n      <td>...</td>\n      <td>Tech articles written by other developers;Indu...</td>\n      <td>29.0</td>\n      <td>Man</td>\n      <td>No</td>\n      <td>Straight / Heterosexual</td>\n      <td>Hispanic or Latino/Latina;Multiracial</td>\n      <td>No</td>\n      <td>Appropriate in length</td>\n      <td>Easy</td>\n      <td>90000.0</td>\n    </tr>\n    <tr>\n      <th>...</th>\n      <td>...</td>\n      <td>...</td>\n      <td>...</td>\n      <td>...</td>\n      <td>...</td>\n      <td>...</td>\n      <td>...</td>\n      <td>...</td>\n      <td>...</td>\n      <td>...</td>\n      <td>...</td>\n      <td>...</td>\n      <td>...</td>\n      <td>...</td>\n      <td>...</td>\n      <td>...</td>\n      <td>...</td>\n      <td>...</td>\n      <td>...</td>\n      <td>...</td>\n      <td>...</td>\n    </tr>\n    <tr>\n      <th>11547</th>\n      <td>25136</td>\n      <td>I am a developer by profession</td>\n      <td>Yes</td>\n      <td>Never</td>\n      <td>OSS is, on average, of HIGHER quality than pro...</td>\n      <td>Employed full-time</td>\n      <td>United States</td>\n      <td>No</td>\n      <td>Master\u2019s degree (MA, MS, M.Eng., MBA, etc.)</td>\n      <td>Computer science, computer engineering, or sof...</td>\n      <td>...</td>\n      <td>Tech articles written by other developers;Cour...</td>\n      <td>36.0</td>\n      <td>Man</td>\n      <td>No</td>\n      <td>Straight / Heterosexual</td>\n      <td>White or of European descent</td>\n      <td>No</td>\n      <td>Appropriate in length</td>\n      <td>Difficult</td>\n      <td>130000.0</td>\n    </tr>\n    <tr>\n      <th>11548</th>\n      <td>25137</td>\n      <td>I am a developer by profession</td>\n      <td>Yes</td>\n      <td>Never</td>\n      <td>The quality of OSS and closed source software ...</td>\n      <td>Employed full-time</td>\n      <td>Poland</td>\n      <td>No</td>\n      <td>Master\u2019s degree (MA, MS, M.Eng., MBA, etc.)</td>\n      <td>Computer science, computer engineering, or sof...</td>\n      <td>...</td>\n      <td>Tech articles written by other developers;Tech...</td>\n      <td>25.0</td>\n      <td>Man</td>\n      <td>No</td>\n      <td>Straight / Heterosexual</td>\n      <td>White or of European descent</td>\n      <td>No</td>\n      <td>Appropriate in length</td>\n      <td>Neither easy nor difficult</td>\n      <td>74400.0</td>\n    </tr>\n    <tr>\n      <th>11549</th>\n      <td>25138</td>\n      <td>I am a developer by profession</td>\n      <td>Yes</td>\n      <td>Less than once per year</td>\n      <td>The quality of OSS and closed source software ...</td>\n      <td>Employed full-time</td>\n      <td>United States</td>\n      <td>No</td>\n      <td>Master\u2019s degree (MA, MS, M.Eng., MBA, etc.)</td>\n      <td>Computer science, computer engineering, or sof...</td>\n      <td>...</td>\n      <td>Tech articles written by other developers;Indu...</td>\n      <td>34.0</td>\n      <td>Man</td>\n      <td>No</td>\n      <td>Straight / Heterosexual</td>\n      <td>White or of European descent</td>\n      <td>Yes</td>\n      <td>Too long</td>\n      <td>Easy</td>\n      <td>105000.0</td>\n    </tr>\n    <tr>\n      <th>11550</th>\n      <td>25141</td>\n      <td>I am a developer by profession</td>\n      <td>Yes</td>\n      <td>Less than once a month but more than once per ...</td>\n      <td>OSS is, on average, of LOWER quality than prop...</td>\n      <td>Employed full-time</td>\n      <td>Switzerland</td>\n      <td>No</td>\n      <td>Secondary school (e.g. American high school, G...</td>\n      <td>NaN</td>\n      <td>...</td>\n      <td>NaN</td>\n      <td>25.0</td>\n      <td>Man</td>\n      <td>No</td>\n      <td>Straight / Heterosexual</td>\n      <td>White or of European descent</td>\n      <td>No</td>\n      <td>Appropriate in length</td>\n      <td>Easy</td>\n      <td>80000.0</td>\n    </tr>\n    <tr>\n      <th>11551</th>\n      <td>25142</td>\n      <td>I am a developer by profession</td>\n      <td>Yes</td>\n      <td>Less than once a month but more than once per ...</td>\n      <td>OSS is, on average, of HIGHER quality than pro...</td>\n      <td>Employed full-time</td>\n      <td>United Kingdom</td>\n      <td>No</td>\n      <td>Other doctoral degree (Ph.D, Ed.D., etc.)</td>\n      <td>A natural science (ex. biology, chemistry, phy...</td>\n      <td>...</td>\n      <td>Tech articles written by other developers;Tech...</td>\n      <td>30.0</td>\n      <td>Man</td>\n      <td>No</td>\n      <td>Bisexual</td>\n      <td>White or of European descent</td>\n      <td>No</td>\n      <td>Appropriate in length</td>\n      <td>Easy</td>\n      <td>70000.0</td>\n    </tr>\n  </tbody>\n</table>\n<p>11398 rows \u00d7 86 columns</p>\n</div>",
                        "text/plain": "       Respondent                      MainBranch Hobbyist  \\\n0               4  I am a developer by profession       No   \n1               9  I am a developer by profession      Yes   \n2              13  I am a developer by profession      Yes   \n3              16  I am a developer by profession      Yes   \n4              17  I am a developer by profession      Yes   \n...           ...                             ...      ...   \n11547       25136  I am a developer by profession      Yes   \n11548       25137  I am a developer by profession      Yes   \n11549       25138  I am a developer by profession      Yes   \n11550       25141  I am a developer by profession      Yes   \n11551       25142  I am a developer by profession      Yes   \n\n                                             OpenSourcer  \\\n0                                                  Never   \n1                             Once a month or more often   \n2      Less than once a month but more than once per ...   \n3                                                  Never   \n4      Less than once a month but more than once per ...   \n...                                                  ...   \n11547                                              Never   \n11548                                              Never   \n11549                            Less than once per year   \n11550  Less than once a month but more than once per ...   \n11551  Less than once a month but more than once per ...   \n\n                                              OpenSource          Employment  \\\n0      The quality of OSS and closed source software ...  Employed full-time   \n1      The quality of OSS and closed source software ...  Employed full-time   \n2      OSS is, on average, of HIGHER quality than pro...  Employed full-time   \n3      The quality of OSS and closed source software ...  Employed full-time   \n4      The quality of OSS and closed source software ...  Employed full-time   \n...                                                  ...                 ...   \n11547  OSS is, on average, of HIGHER quality than pro...  Employed full-time   \n11548  The quality of OSS and closed source software ...  Employed full-time   \n11549  The quality of OSS and closed source software ...  Employed full-time   \n11550  OSS is, on average, of LOWER quality than prop...  Employed full-time   \n11551  OSS is, on average, of HIGHER quality than pro...  Employed full-time   \n\n              Country Student  \\\n0       United States      No   \n1         New Zealand      No   \n2       United States      No   \n3      United Kingdom      No   \n4           Australia      No   \n...               ...     ...   \n11547   United States      No   \n11548          Poland      No   \n11549   United States      No   \n11550     Switzerland      No   \n11551  United Kingdom      No   \n\n                                                 EdLevel  \\\n0               Bachelor\u2019s degree (BA, BS, B.Eng., etc.)   \n1      Some college/university study without earning ...   \n2            Master\u2019s degree (MA, MS, M.Eng., MBA, etc.)   \n3            Master\u2019s degree (MA, MS, M.Eng., MBA, etc.)   \n4               Bachelor\u2019s degree (BA, BS, B.Eng., etc.)   \n...                                                  ...   \n11547        Master\u2019s degree (MA, MS, M.Eng., MBA, etc.)   \n11548        Master\u2019s degree (MA, MS, M.Eng., MBA, etc.)   \n11549        Master\u2019s degree (MA, MS, M.Eng., MBA, etc.)   \n11550  Secondary school (e.g. American high school, G...   \n11551          Other doctoral degree (Ph.D, Ed.D., etc.)   \n\n                                          UndergradMajor  ...  \\\n0      Computer science, computer engineering, or sof...  ...   \n1      Computer science, computer engineering, or sof...  ...   \n2      Computer science, computer engineering, or sof...  ...   \n3                                                    NaN  ...   \n4      Computer science, computer engineering, or sof...  ...   \n...                                                  ...  ...   \n11547  Computer science, computer engineering, or sof...  ...   \n11548  Computer science, computer engineering, or sof...  ...   \n11549  Computer science, computer engineering, or sof...  ...   \n11550                                                NaN  ...   \n11551  A natural science (ex. biology, chemistry, phy...  ...   \n\n                                            SONewContent   Age Gender Trans  \\\n0      Tech articles written by other developers;Indu...  22.0    Man    No   \n1                                                    NaN  23.0    Man    No   \n2      Tech articles written by other developers;Cour...  28.0    Man    No   \n3      Tech articles written by other developers;Indu...  26.0    Man    No   \n4      Tech articles written by other developers;Indu...  29.0    Man    No   \n...                                                  ...   ...    ...   ...   \n11547  Tech articles written by other developers;Cour...  36.0    Man    No   \n11548  Tech articles written by other developers;Tech...  25.0    Man    No   \n11549  Tech articles written by other developers;Indu...  34.0    Man    No   \n11550                                                NaN  25.0    Man    No   \n11551  Tech articles written by other developers;Tech...  30.0    Man    No   \n\n                     Sexuality                              Ethnicity  \\\n0      Straight / Heterosexual           White or of European descent   \n1                     Bisexual           White or of European descent   \n2      Straight / Heterosexual           White or of European descent   \n3      Straight / Heterosexual           White or of European descent   \n4      Straight / Heterosexual  Hispanic or Latino/Latina;Multiracial   \n...                        ...                                    ...   \n11547  Straight / Heterosexual           White or of European descent   \n11548  Straight / Heterosexual           White or of European descent   \n11549  Straight / Heterosexual           White or of European descent   \n11550  Straight / Heterosexual           White or of European descent   \n11551                 Bisexual           White or of European descent   \n\n      Dependents           SurveyLength                  SurveyEase  \\\n0             No  Appropriate in length                        Easy   \n1             No  Appropriate in length  Neither easy nor difficult   \n2            Yes  Appropriate in length                        Easy   \n3             No  Appropriate in length  Neither easy nor difficult   \n4             No  Appropriate in length                        Easy   \n...          ...                    ...                         ...   \n11547         No  Appropriate in length                   Difficult   \n11548         No  Appropriate in length  Neither easy nor difficult   \n11549        Yes               Too long                        Easy   \n11550         No  Appropriate in length                        Easy   \n11551         No  Appropriate in length                        Easy   \n\n      NormalizedAnnualCompensation  \n0                          61000.0  \n1                         138000.0  \n2                          90000.0  \n3                         348000.0  \n4                          90000.0  \n...                            ...  \n11547                     130000.0  \n11548                      74400.0  \n11549                     105000.0  \n11550                      80000.0  \n11551                      70000.0  \n\n[11398 rows x 86 columns]"
                    },
                    "execution_count": 43,
                    "metadata": {},
                    "output_type": "execute_result"
                }
            ],
            "source": "# your code goes here\nNormalized=[]\nfor i,n in zip(df.CompFreq,df.CompTotal):\n        if i=='Yearly':\n            Normalized.append(n)\n        elif i=='Monthly':\n            Normalized.append(n*12)\n        else :\n            Normalized.append(n*52)\nNormalized\ndf['NormalizedAnnualCompensation']=Normalized\ndf"
        },
        {
            "cell_type": "markdown",
            "metadata": {},
            "source": "## Authors\n"
        },
        {
            "cell_type": "markdown",
            "metadata": {},
            "source": "Ramesh Sannareddy\n"
        },
        {
            "cell_type": "markdown",
            "metadata": {},
            "source": "### Other Contributors\n"
        },
        {
            "cell_type": "markdown",
            "metadata": {},
            "source": "Rav Ahuja\n"
        },
        {
            "cell_type": "markdown",
            "metadata": {},
            "source": "## Change Log\n"
        },
        {
            "cell_type": "markdown",
            "metadata": {},
            "source": "| Date (YYYY-MM-DD) | Version | Changed By        | Change Description                 |\n| ----------------- | ------- | ----------------- | ---------------------------------- |\n| 2020-10-17        | 0.1     | Ramesh Sannareddy | Created initial version of the lab |\n"
        },
        {
            "cell_type": "markdown",
            "metadata": {},
            "source": "Copyright \u00a9 2020 IBM Corporation. This notebook and its source code are released under the terms of the [MIT License](https://cognitiveclass.ai/mit-license?utm_medium=Exinfluencer\\&utm_source=Exinfluencer\\&utm_content=000026UJ\\&utm_term=10006555\\&utm_id=NA-SkillsNetwork-Channel-SkillsNetworkCoursesIBMDA0321ENSkillsNetwork21426264-2021-01-01\\&cm_mmc=Email_Newsletter-\\_-Developer_Ed%2BTech-\\_-WW_WW-\\_-SkillsNetwork-Courses-IBM-DA0321EN-SkillsNetwork-21426264\\&cm_mmca1=000026UJ\\&cm_mmca2=10006555\\&cm_mmca3=M12345678\\&cvosrc=email.Newsletter.M12345678\\&cvo_campaign=000026UJ).\n"
        }
    ],
    "metadata": {
        "kernelspec": {
            "display_name": "Python 3.7",
            "language": "python",
            "name": "python3"
        },
        "language_info": {
            "codemirror_mode": {
                "name": "ipython",
                "version": 3
            },
            "file_extension": ".py",
            "mimetype": "text/x-python",
            "name": "python",
            "nbconvert_exporter": "python",
            "pygments_lexer": "ipython3",
            "version": "3.7.10"
        }
    },
    "nbformat": 4,
    "nbformat_minor": 4
}