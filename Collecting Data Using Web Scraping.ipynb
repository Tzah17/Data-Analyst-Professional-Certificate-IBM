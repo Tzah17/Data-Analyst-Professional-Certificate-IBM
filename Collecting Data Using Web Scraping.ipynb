{
    "cells": [
        {
            "cell_type": "markdown",
            "metadata": {},
            "source": "<center>\n    <img src=\"https://gitlab.com/ibm/skills-network/courses/placeholder101/-/raw/master/labs/module%201/images/IDSNlogo.png\" width=\"300\" alt=\"cognitiveclass.ai logo\"  />\n</center>\n"
        },
        {
            "cell_type": "markdown",
            "metadata": {},
            "source": "# **Hands-on Lab : Web Scraping**\n"
        },
        {
            "cell_type": "markdown",
            "metadata": {},
            "source": "Estimated time needed: **30 to 45** minutes\n"
        },
        {
            "cell_type": "markdown",
            "metadata": {},
            "source": "## Objectives\n"
        },
        {
            "cell_type": "markdown",
            "metadata": {},
            "source": "In this lab you will perform the following:\n"
        },
        {
            "cell_type": "markdown",
            "metadata": {},
            "source": "*   Extract information from a given web site\n*   Write the scraped data into a csv file.\n"
        },
        {
            "cell_type": "markdown",
            "metadata": {},
            "source": "## Extract information from the given web site\n\nYou will extract the data from the below web site: <br>\n"
        },
        {
            "cell_type": "code",
            "execution_count": 2,
            "metadata": {},
            "outputs": [],
            "source": "#this url contains the data you need to scrape\nurl = \"https://cf-courses-data.s3.us.cloud-object-storage.appdomain.cloud/IBM-DA0321EN-SkillsNetwork/labs/datasets/Programming_Languages.html\""
        },
        {
            "cell_type": "markdown",
            "metadata": {},
            "source": "The data you need to scrape is the **name of the programming language** and **average annual salary**.<br> It is a good idea to open the url in your web broswer and study the contents of the web page before you start to scrape.\n"
        },
        {
            "cell_type": "markdown",
            "metadata": {},
            "source": "Import the required libraries\n"
        },
        {
            "cell_type": "code",
            "execution_count": 3,
            "metadata": {},
            "outputs": [],
            "source": "# Your code here\nfrom bs4 import BeautifulSoup\nimport requests"
        },
        {
            "cell_type": "markdown",
            "metadata": {},
            "source": "Download the webpage at the url\n"
        },
        {
            "cell_type": "code",
            "execution_count": 4,
            "metadata": {},
            "outputs": [],
            "source": "#your code goes here\ndata  = requests.get(url).text "
        },
        {
            "cell_type": "markdown",
            "metadata": {},
            "source": "Create a soup object\n"
        },
        {
            "cell_type": "code",
            "execution_count": 5,
            "metadata": {},
            "outputs": [
                {
                    "name": "stdout",
                    "output_type": "stream",
                    "text": "<!DOCTYPE html>\n<html lang=\"en\"><head>\n<title>\nSalary survey results of programming languages\n</title>\n<style>\ntable, th, td {\n  border: 1px solid black;\n}\n</style>\n</head>\n\n<body>\n<hr/>\n<h2>Popular Programming Languages</h2>\n<hr/>\n<p>Finding out which is the best language is a tough task. A programming language is created to solve a specific problem. A language which is good for task A may not be able to properly handle task B. Comparing programming language is never easy. What we can do, however, is find which is popular in the industry.</p>\n<p>There are many ways to find the popularity of a programming languages. Counting the number of google searchs for each language is a simple way to find the popularity. GitHub and StackOverflow also can give some good pointers.</p>\n<p>Salary surveys are a way to find out the programmings languages that are most in demand in the industry. Below table is the result of one such survey. When using any survey keep in mind that the results vary year on year.</p>\n<hr/>\n<table>\n<tbody>\n<tr>\n<td>No.</td>\n<td>Language</td>\n<td>Created By</td>\n<td>Average Annual Salary</td>\n<td>Learning Difficulty</td>\n</tr>\n<tr>\n<td>1</td>\n<td>Python</td>\n<td>Guido van Rossum</td>\n<td>$114,383</td>\n<td>Easy</td>\n</tr>\n<tr>\n<td>2</td>\n<td>Java</td>\n<td>James Gosling</td>\n<td>$101,013</td>\n<td>Easy</td>\n</tr>\n<tr>\n<td>3</td>\n<td>R</td>\n<td>Robert Gentleman, Ross Ihaka</td>\n<td>$92,037</td>\n<td>Hard</td>\n</tr>\n<tr>\n<td>4</td>\n<td>Javascript</td>\n<td>Netscape</td>\n<td>$110,981</td>\n<td>Easy</td>\n</tr>\n<tr>\n<td>5</td>\n<td>Swift</td>\n<td>Apple</td>\n<td>$130,801</td>\n<td>Easy</td>\n</tr>\n<tr>\n<td>6</td>\n<td>C++</td>\n<td>Bjarne Stroustrup</td>\n<td>$113,865</td>\n<td>Hard</td>\n</tr>\n<tr>\n<td>7</td>\n<td>C#</td>\n<td>Microsoft</td>\n<td>$88,726</td>\n<td>Hard</td>\n</tr>\n<tr>\n<td>8</td>\n<td>PHP</td>\n<td>Rasmus Lerdorf</td>\n<td>$84,727</td>\n<td>Easy</td>\n</tr>\n<tr>\n<td>9</td>\n<td>SQL</td>\n<td>Donald D. Chamberlin, Raymond F. Boyce.</td>\n<td>$84,793</td>\n<td>Easy</td>\n</tr>\n<tr>\n<td>10</td>\n<td>Go</td>\n<td>Robert Griesemer, Ken Thompson, Rob Pike.</td>\n<td>$94,082</td>\n<td>Difficult</td>\n</tr>\n</tbody>\n</table>\n<hr/>\n\n</body></html>\n"
                }
            ],
            "source": "#your code goes here\nsoup = BeautifulSoup(data,\"html5lib\")\nprint(soup)"
        },
        {
            "cell_type": "markdown",
            "metadata": {},
            "source": "Scrape the `Language name` and `annual average salary`.\n"
        },
        {
            "cell_type": "code",
            "execution_count": 6,
            "metadata": {},
            "outputs": [
                {
                    "name": "stdout",
                    "output_type": "stream",
                    "text": "Python--->$114,383\nJava--->$101,013\nR--->$92,037\nJavascript--->$110,981\nSwift--->$130,801\nC++--->$113,865\nC#--->$88,726\nPHP--->$84,727\nSQL--->$84,793\nGo--->$94,082\n"
                },
                {
                    "data": {
                        "text/html": "<div>\n<style scoped>\n    .dataframe tbody tr th:only-of-type {\n        vertical-align: middle;\n    }\n\n    .dataframe tbody tr th {\n        vertical-align: top;\n    }\n\n    .dataframe thead th {\n        text-align: right;\n    }\n</style>\n<table border=\"1\" class=\"dataframe\">\n  <thead>\n    <tr style=\"text-align: right;\">\n      <th></th>\n      <th>Language Name</th>\n      <th>Average Salary</th>\n    </tr>\n  </thead>\n  <tbody>\n    <tr>\n      <th>0</th>\n      <td>Python</td>\n      <td>$114,383</td>\n    </tr>\n    <tr>\n      <th>1</th>\n      <td>Java</td>\n      <td>$101,013</td>\n    </tr>\n    <tr>\n      <th>2</th>\n      <td>R</td>\n      <td>$92,037</td>\n    </tr>\n    <tr>\n      <th>3</th>\n      <td>Javascript</td>\n      <td>$110,981</td>\n    </tr>\n    <tr>\n      <th>4</th>\n      <td>Swift</td>\n      <td>$130,801</td>\n    </tr>\n    <tr>\n      <th>5</th>\n      <td>C++</td>\n      <td>$113,865</td>\n    </tr>\n    <tr>\n      <th>6</th>\n      <td>C#</td>\n      <td>$88,726</td>\n    </tr>\n    <tr>\n      <th>7</th>\n      <td>PHP</td>\n      <td>$84,727</td>\n    </tr>\n    <tr>\n      <th>8</th>\n      <td>SQL</td>\n      <td>$84,793</td>\n    </tr>\n    <tr>\n      <th>9</th>\n      <td>Go</td>\n      <td>$94,082</td>\n    </tr>\n  </tbody>\n</table>\n</div>",
                        "text/plain": "  Language Name Average Salary\n0        Python       $114,383\n1          Java       $101,013\n2             R        $92,037\n3    Javascript       $110,981\n4         Swift       $130,801\n5           C++       $113,865\n6            C#        $88,726\n7           PHP        $84,727\n8           SQL        $84,793\n9            Go        $94,082"
                    },
                    "execution_count": 6,
                    "metadata": {},
                    "output_type": "execute_result"
                }
            ],
            "source": "#your code goes here\nimport numpy as np\nimport pandas as pd\nscraped_data=[]\ntable = soup.find('table')\nfor row in table.find_all('tr')[1:]:\n    cols = row.find_all('td') \n    language_name = cols[1].getText() \n    annual_average_salary = cols[3].getText()\n    scraped_data.append([language_name,annual_average_salary])\n    df=pd.DataFrame(scraped_data,columns=[\"Language Name\",\"Average Salary\"])\n    print(\"{}--->{}\".format(language_name,annual_average_salary))\ndf"
        },
        {
            "cell_type": "markdown",
            "metadata": {},
            "source": "Save the scrapped data into a file named *popular-languages.csv*\n"
        },
        {
            "cell_type": "code",
            "execution_count": 8,
            "metadata": {},
            "outputs": [
                {
                    "name": "stderr",
                    "output_type": "stream",
                    "text": "2021-07-27 15:18:56,210 - __PROJECT_LIB__ - ERROR - failed to initialize ibmos2spark integration\nTraceback (most recent call last):\n  File \"/opt/conda/envs/Python-3.7-main/lib/python3.7/site-packages/project_lib/storage/bcos.py\", line 138, in _initialize_bcos2spark\n    import ibmos2spark\nModuleNotFoundError: No module named 'ibmos2spark'\n"
                },
                {
                    "data": {
                        "text/plain": "{'file_name': 'popular-languages.csv',\n 'message': 'File saved to project storage.',\n 'bucket_name': 'capstoneproject-donotdelete-pr-5tkvw68evrmhto',\n 'asset_id': '57a26724-134c-4d80-a69b-9b9c4b116902'}"
                    },
                    "execution_count": 8,
                    "metadata": {},
                    "output_type": "execute_result"
                }
            ],
            "source": "# your code goes here\ndf.to_csv(\"popular-languages.csv\")\n\nfrom project_lib import Project\nproject = Project(Project,\"251e3092-a5db-4f43-a5a4-7e896e83afd7\",\"p-17385424a37b8172b896ce6648aa910b4d3464c0\")\nproject.save_data(file_name = \"popular-languages.csv\",data = df.to_csv(index=False))"
        },
        {
            "cell_type": "markdown",
            "metadata": {},
            "source": "## Authors\n"
        },
        {
            "cell_type": "markdown",
            "metadata": {},
            "source": "Ramesh Sannareddy\n"
        },
        {
            "cell_type": "markdown",
            "metadata": {},
            "source": "### Other Contributors\n"
        },
        {
            "cell_type": "markdown",
            "metadata": {},
            "source": "Rav Ahuja\n"
        },
        {
            "cell_type": "markdown",
            "metadata": {},
            "source": "## Change Log\n"
        },
        {
            "cell_type": "markdown",
            "metadata": {},
            "source": "|  Date (YYYY-MM-DD) |  Version | Changed By  |  Change Description |\n|---|---|---|---|\n| 2020-10-17  | 0.1  | Ramesh Sannareddy  |  Created initial version of the lab |\n"
        },
        {
            "cell_type": "markdown",
            "metadata": {},
            "source": "Copyright \u00a9 2020 IBM Corporation. This notebook and its source code are released under the terms of the [MIT License](https://cognitiveclass.ai/mit-license/?utm_medium=Exinfluencer\\&utm_source=Exinfluencer\\&utm_content=000026UJ\\&utm_term=10006555\\&utm_id=NA-SkillsNetwork-Channel-SkillsNetworkCoursesIBMDA0321ENSkillsNetwork21426264-2021-01-01).\n"
        }
    ],
    "metadata": {
        "kernelspec": {
            "display_name": "Python 3.7",
            "language": "python",
            "name": "python3"
        },
        "language_info": {
            "codemirror_mode": {
                "name": "ipython",
                "version": 3
            },
            "file_extension": ".py",
            "mimetype": "text/x-python",
            "name": "python",
            "nbconvert_exporter": "python",
            "pygments_lexer": "ipython3",
            "version": "3.7.10"
        }
    },
    "nbformat": 4,
    "nbformat_minor": 4
}